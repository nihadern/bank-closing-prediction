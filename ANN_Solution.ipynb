{
  "nbformat": 4,
  "nbformat_minor": 0,
  "metadata": {
    "kernelspec": {
      "display_name": "Python 3",
      "language": "python",
      "name": "python3"
    },
    "colab": {
      "name": "ANN Solution.ipynb",
      "provenance": [],
      "collapsed_sections": [],
      "include_colab_link": true
    }
  },
  "cells": [
    {
      "cell_type": "markdown",
      "metadata": {
        "id": "view-in-github",
        "colab_type": "text"
      },
      "source": [
        "<a href=\"https://colab.research.google.com/github/nihadern/bank-closing-prediction/blob/master/ANN_Solution.ipynb\" target=\"_parent\"><img src=\"https://colab.research.google.com/assets/colab-badge.svg\" alt=\"Open In Colab\"/></a>"
      ]
    },
    {
      "cell_type": "markdown",
      "metadata": {
        "id": "63jTRieXvtb7",
        "colab_type": "text"
      },
      "source": [
        "# Importing the libraries"
      ]
    },
    {
      "cell_type": "code",
      "metadata": {
        "id": "BgDFYjQ_vtb8",
        "colab_type": "code",
        "colab": {}
      },
      "source": [
        "import numpy as np\n",
        "import matplotlib.pyplot as plt\n",
        "import pandas as pd\n",
        "from sklearn.preprocessing import LabelEncoder, OneHotEncoder\n",
        "from sklearn.model_selection import train_test_split\n",
        "from sklearn.preprocessing import StandardScaler\n",
        "from sklearn.compose import ColumnTransformer \n",
        "import time\n",
        "from sklearn.metrics import confusion_matrix"
      ],
      "execution_count": 0,
      "outputs": []
    },
    {
      "cell_type": "markdown",
      "metadata": {
        "id": "R44CAy38v5bp",
        "colab_type": "text"
      },
      "source": [
        "# Importing the dataset"
      ]
    },
    {
      "cell_type": "code",
      "metadata": {
        "id": "fSCm6Pllv4lb",
        "colab_type": "code",
        "colab": {
          "base_uri": "https://localhost:8080/",
          "height": 204
        },
        "outputId": "c77624c9-00f7-4a32-da0e-71b4288a7654"
      },
      "source": [
        "dataset = pd.read_csv('Bank_Predictions.csv')\n",
        "dataset.head()"
      ],
      "execution_count": 6,
      "outputs": [
        {
          "output_type": "execute_result",
          "data": {
            "text/html": [
              "<div>\n",
              "<style scoped>\n",
              "    .dataframe tbody tr th:only-of-type {\n",
              "        vertical-align: middle;\n",
              "    }\n",
              "\n",
              "    .dataframe tbody tr th {\n",
              "        vertical-align: top;\n",
              "    }\n",
              "\n",
              "    .dataframe thead th {\n",
              "        text-align: right;\n",
              "    }\n",
              "</style>\n",
              "<table border=\"1\" class=\"dataframe\">\n",
              "  <thead>\n",
              "    <tr style=\"text-align: right;\">\n",
              "      <th></th>\n",
              "      <th>Number</th>\n",
              "      <th>Customer_ID</th>\n",
              "      <th>Last_Name</th>\n",
              "      <th>Cr_Score</th>\n",
              "      <th>Location</th>\n",
              "      <th>Gender</th>\n",
              "      <th>Age</th>\n",
              "      <th>History</th>\n",
              "      <th>Current_Balance</th>\n",
              "      <th>Num_Of_Products</th>\n",
              "      <th>Has_CrCard</th>\n",
              "      <th>IsActiveMember</th>\n",
              "      <th>Customer_Salary</th>\n",
              "      <th>Acc_Closed</th>\n",
              "    </tr>\n",
              "  </thead>\n",
              "  <tbody>\n",
              "    <tr>\n",
              "      <th>0</th>\n",
              "      <td>1</td>\n",
              "      <td>15634602</td>\n",
              "      <td>Hargrave</td>\n",
              "      <td>619</td>\n",
              "      <td>France</td>\n",
              "      <td>Female</td>\n",
              "      <td>42</td>\n",
              "      <td>2</td>\n",
              "      <td>0.00</td>\n",
              "      <td>1</td>\n",
              "      <td>1</td>\n",
              "      <td>1</td>\n",
              "      <td>101348.88</td>\n",
              "      <td>1</td>\n",
              "    </tr>\n",
              "    <tr>\n",
              "      <th>1</th>\n",
              "      <td>2</td>\n",
              "      <td>15647311</td>\n",
              "      <td>Hill</td>\n",
              "      <td>608</td>\n",
              "      <td>Spain</td>\n",
              "      <td>Female</td>\n",
              "      <td>41</td>\n",
              "      <td>1</td>\n",
              "      <td>83807.86</td>\n",
              "      <td>1</td>\n",
              "      <td>0</td>\n",
              "      <td>1</td>\n",
              "      <td>112542.58</td>\n",
              "      <td>0</td>\n",
              "    </tr>\n",
              "    <tr>\n",
              "      <th>2</th>\n",
              "      <td>3</td>\n",
              "      <td>15619304</td>\n",
              "      <td>Onio</td>\n",
              "      <td>502</td>\n",
              "      <td>France</td>\n",
              "      <td>Female</td>\n",
              "      <td>42</td>\n",
              "      <td>8</td>\n",
              "      <td>159660.80</td>\n",
              "      <td>3</td>\n",
              "      <td>1</td>\n",
              "      <td>0</td>\n",
              "      <td>113931.57</td>\n",
              "      <td>1</td>\n",
              "    </tr>\n",
              "    <tr>\n",
              "      <th>3</th>\n",
              "      <td>4</td>\n",
              "      <td>15701354</td>\n",
              "      <td>Boni</td>\n",
              "      <td>699</td>\n",
              "      <td>France</td>\n",
              "      <td>Female</td>\n",
              "      <td>39</td>\n",
              "      <td>1</td>\n",
              "      <td>0.00</td>\n",
              "      <td>2</td>\n",
              "      <td>0</td>\n",
              "      <td>0</td>\n",
              "      <td>93826.63</td>\n",
              "      <td>0</td>\n",
              "    </tr>\n",
              "    <tr>\n",
              "      <th>4</th>\n",
              "      <td>5</td>\n",
              "      <td>15737888</td>\n",
              "      <td>Mitchell</td>\n",
              "      <td>850</td>\n",
              "      <td>Spain</td>\n",
              "      <td>Female</td>\n",
              "      <td>43</td>\n",
              "      <td>2</td>\n",
              "      <td>125510.82</td>\n",
              "      <td>1</td>\n",
              "      <td>1</td>\n",
              "      <td>1</td>\n",
              "      <td>79084.10</td>\n",
              "      <td>0</td>\n",
              "    </tr>\n",
              "  </tbody>\n",
              "</table>\n",
              "</div>"
            ],
            "text/plain": [
              "   Number  Customer_ID Last_Name  ...  IsActiveMember Customer_Salary Acc_Closed\n",
              "0       1     15634602  Hargrave  ...               1       101348.88          1\n",
              "1       2     15647311      Hill  ...               1       112542.58          0\n",
              "2       3     15619304      Onio  ...               0       113931.57          1\n",
              "3       4     15701354      Boni  ...               0        93826.63          0\n",
              "4       5     15737888  Mitchell  ...               1        79084.10          0\n",
              "\n",
              "[5 rows x 14 columns]"
            ]
          },
          "metadata": {
            "tags": []
          },
          "execution_count": 6
        }
      ]
    },
    {
      "cell_type": "markdown",
      "metadata": {
        "id": "Fx7pur6wwd4K",
        "colab_type": "text"
      },
      "source": [
        "# Part 1: Data Preprocessing\n"
      ]
    },
    {
      "cell_type": "code",
      "metadata": {
        "id": "eKrAfHZywc_C",
        "colab_type": "code",
        "colab": {
          "base_uri": "https://localhost:8080/",
          "height": 34
        },
        "outputId": "2e370803-bd47-4863-bb94-2c354843dc4a"
      },
      "source": [
        "X = dataset.iloc[:, 3:13].values\n",
        "Y = dataset.iloc[:, 13].values\n",
        "print(X[0])"
      ],
      "execution_count": 34,
      "outputs": [
        {
          "output_type": "stream",
          "text": [
            "[619 'France' 'Female' 42 2 0.0 1 1 1 101348.88]\n"
          ],
          "name": "stdout"
        }
      ]
    },
    {
      "cell_type": "markdown",
      "metadata": {
        "id": "P8Ua6MIixczU",
        "colab_type": "text"
      },
      "source": [
        "## Encoding categorical data"
      ]
    },
    {
      "cell_type": "markdown",
      "metadata": {
        "id": "CUT8t2lWx6dM",
        "colab_type": "text"
      },
      "source": [
        "### Encode Location\n"
      ]
    },
    {
      "cell_type": "code",
      "metadata": {
        "id": "Ka6JzzftxKi-",
        "colab_type": "code",
        "colab": {
          "base_uri": "https://localhost:8080/",
          "height": 51
        },
        "outputId": "49137714-f53f-4a2d-f50f-efbd219ee38c"
      },
      "source": [
        "labelencoder_loc = LabelEncoder()\n",
        "print(X[:, 1])\n",
        "X[:, 1] = labelencoder_loc.fit_transform(X[:, 1])\n",
        "print(X[:, 1])"
      ],
      "execution_count": 35,
      "outputs": [
        {
          "output_type": "stream",
          "text": [
            "['France' 'Spain' 'France' ... 'France' 'Germany' 'France']\n",
            "[0 2 0 ... 0 1 0]\n"
          ],
          "name": "stdout"
        }
      ]
    },
    {
      "cell_type": "markdown",
      "metadata": {
        "id": "0qc4EF3XyufG",
        "colab_type": "text"
      },
      "source": [
        "### Encode Gender\n"
      ]
    },
    {
      "cell_type": "code",
      "metadata": {
        "id": "DMzEgJdby0hA",
        "colab_type": "code",
        "colab": {
          "base_uri": "https://localhost:8080/",
          "height": 51
        },
        "outputId": "01f44204-3253-4d4b-d374-799404050c0d"
      },
      "source": [
        "labelencoder_gender = LabelEncoder()\n",
        "print(X[:, 2])\n",
        "X[:, 2] = labelencoder_gender.fit_transform(X[:, 2])\n",
        "print(X[:, 2])"
      ],
      "execution_count": 37,
      "outputs": [
        {
          "output_type": "stream",
          "text": [
            "['Female' 'Female' 'Female' ... 'Female' 'Male' 'Female']\n",
            "[0 0 0 ... 0 1 0]\n"
          ],
          "name": "stdout"
        }
      ]
    },
    {
      "cell_type": "markdown",
      "metadata": {
        "id": "uu1lMryw2LsL",
        "colab_type": "text"
      },
      "source": [
        "### One-Hot encode location\n",
        "\n",
        "\n"
      ]
    },
    {
      "cell_type": "code",
      "metadata": {
        "id": "ro3hRzbezEkP",
        "colab_type": "code",
        "colab": {}
      },
      "source": [
        "# location\n",
        "onehotencoder = OneHotEncoder()\n",
        "ct = ColumnTransformer([(\"locaction\", onehotencoder,[1])], remainder=\"passthrough\") \n",
        "X = ct.fit_transform(X)"
      ],
      "execution_count": 0,
      "outputs": []
    },
    {
      "cell_type": "markdown",
      "metadata": {
        "id": "gMKK_7WjB-UF",
        "colab_type": "text"
      },
      "source": [
        "## Splitting the dataset into the Training and Test sets"
      ]
    },
    {
      "cell_type": "code",
      "metadata": {
        "id": "DVs5E_p020mb",
        "colab_type": "code",
        "colab": {}
      },
      "source": [
        "X_train, X_test, y_train, y_test = train_test_split(X, Y, test_size = 0.2, random_state = int(time.time()))"
      ],
      "execution_count": 0,
      "outputs": []
    },
    {
      "cell_type": "markdown",
      "metadata": {
        "id": "IuDLsK5-CRWc",
        "colab_type": "text"
      },
      "source": [
        "## Feature Scaling\n"
      ]
    },
    {
      "cell_type": "code",
      "metadata": {
        "id": "OrwRhpkuCQbF",
        "colab_type": "code",
        "colab": {}
      },
      "source": [
        "sc = StandardScaler()\n",
        "X_train = sc.fit_transform(X_train)\n",
        "X_test = sc.transform(X_test)"
      ],
      "execution_count": 0,
      "outputs": []
    },
    {
      "cell_type": "markdown",
      "metadata": {
        "id": "DFcJdd7KC0QT",
        "colab_type": "text"
      },
      "source": [
        "# Part 2: Bulding the ANN"
      ]
    },
    {
      "cell_type": "markdown",
      "metadata": {
        "id": "-MvHZ5EiDb4-",
        "colab_type": "text"
      },
      "source": [
        "# Import keras library and packages\n"
      ]
    },
    {
      "cell_type": "code",
      "metadata": {
        "id": "1jMXHbaQCzlc",
        "colab_type": "code",
        "colab": {}
      },
      "source": [
        "import keras\n",
        "from keras.models import Sequential\n",
        "from keras.layers import Dense"
      ],
      "execution_count": 0,
      "outputs": []
    },
    {
      "cell_type": "markdown",
      "metadata": {
        "id": "SeTNmtdRDmt1",
        "colab_type": "text"
      },
      "source": [
        "## Initializing the ANN\n"
      ]
    },
    {
      "cell_type": "code",
      "metadata": {
        "id": "bfaE2CmsDl57",
        "colab_type": "code",
        "colab": {}
      },
      "source": [
        "model = Sequential()"
      ],
      "execution_count": 0,
      "outputs": []
    },
    {
      "cell_type": "markdown",
      "metadata": {
        "id": "ae46WpI5FGUM",
        "colab_type": "text"
      },
      "source": [
        "## Adding the input layer and the first hidden layer"
      ]
    },
    {
      "cell_type": "code",
      "metadata": {
        "id": "T8XMZ_JyFFi3",
        "colab_type": "code",
        "colab": {
          "base_uri": "https://localhost:8080/",
          "height": 85
        },
        "outputId": "cd8924c7-ae1c-4ba4-eeeb-9b0e67394baa"
      },
      "source": [
        "model.add(Dense(10, activation = 'relu', input_dim =len(X[0])))"
      ],
      "execution_count": 121,
      "outputs": [
        {
          "output_type": "stream",
          "text": [
            "WARNING:tensorflow:From /usr/local/lib/python3.6/dist-packages/keras/backend/tensorflow_backend.py:541: The name tf.placeholder is deprecated. Please use tf.compat.v1.placeholder instead.\n",
            "\n",
            "WARNING:tensorflow:From /usr/local/lib/python3.6/dist-packages/keras/backend/tensorflow_backend.py:4432: The name tf.random_uniform is deprecated. Please use tf.random.uniform instead.\n",
            "\n"
          ],
          "name": "stdout"
        }
      ]
    },
    {
      "cell_type": "markdown",
      "metadata": {
        "id": "fLwby5JFGuS0",
        "colab_type": "text"
      },
      "source": [
        "## Adding second hidden layer"
      ]
    },
    {
      "cell_type": "code",
      "metadata": {
        "id": "9WyStRmWGl1u",
        "colab_type": "code",
        "colab": {}
      },
      "source": [
        "model.add(Dense(6, activation = 'relu'))"
      ],
      "execution_count": 0,
      "outputs": []
    },
    {
      "cell_type": "markdown",
      "metadata": {
        "id": "uF_gFBB9HC5J",
        "colab_type": "text"
      },
      "source": [
        "## Adding output layer"
      ]
    },
    {
      "cell_type": "code",
      "metadata": {
        "id": "zE8xIA7CHG1n",
        "colab_type": "code",
        "colab": {}
      },
      "source": [
        "model.add(Dense(1, activation = 'sigmoid'))"
      ],
      "execution_count": 0,
      "outputs": []
    },
    {
      "cell_type": "markdown",
      "metadata": {
        "id": "Ru3ORPypHwz_",
        "colab_type": "text"
      },
      "source": [
        "## Compiling the ANN\n"
      ]
    },
    {
      "cell_type": "code",
      "metadata": {
        "id": "m_aw5jyUHcMt",
        "colab_type": "code",
        "colab": {
          "base_uri": "https://localhost:8080/",
          "height": 136
        },
        "outputId": "ec9caed8-8aef-44a7-d4d3-5f46b129b46b"
      },
      "source": [
        "model.compile(optimizer=\"adam\", loss=\"binary_crossentropy\", metrics=[\"accuracy\"])"
      ],
      "execution_count": 126,
      "outputs": [
        {
          "output_type": "stream",
          "text": [
            "WARNING:tensorflow:From /usr/local/lib/python3.6/dist-packages/keras/optimizers.py:793: The name tf.train.Optimizer is deprecated. Please use tf.compat.v1.train.Optimizer instead.\n",
            "\n",
            "WARNING:tensorflow:From /usr/local/lib/python3.6/dist-packages/keras/backend/tensorflow_backend.py:3657: The name tf.log is deprecated. Please use tf.math.log instead.\n",
            "\n",
            "WARNING:tensorflow:From /usr/local/lib/python3.6/dist-packages/tensorflow_core/python/ops/nn_impl.py:183: where (from tensorflow.python.ops.array_ops) is deprecated and will be removed in a future version.\n",
            "Instructions for updating:\n",
            "Use tf.where in 2.0, which has the same broadcast rule as np.where\n"
          ],
          "name": "stdout"
        }
      ]
    },
    {
      "cell_type": "markdown",
      "metadata": {
        "id": "DrWgPpsTH1p9",
        "colab_type": "text"
      },
      "source": [
        "## Fitting the ANN to the training set"
      ]
    },
    {
      "cell_type": "code",
      "metadata": {
        "id": "PGpFpIPXH5oI",
        "colab_type": "code",
        "colab": {
          "base_uri": "https://localhost:8080/",
          "height": 1000
        },
        "outputId": "652d5e16-d656-4097-a34b-38898b5989ac"
      },
      "source": [
        "model.fit(X_train, y_train, \n",
        "          batch_size = 10, \n",
        "          epochs = 100,\n",
        "          verbose=1,\n",
        "          validation_data=(X_test, y_test))"
      ],
      "execution_count": 128,
      "outputs": [
        {
          "output_type": "stream",
          "text": [
            "WARNING:tensorflow:From /usr/local/lib/python3.6/dist-packages/keras/backend/tensorflow_backend.py:1033: The name tf.assign_add is deprecated. Please use tf.compat.v1.assign_add instead.\n",
            "\n",
            "WARNING:tensorflow:From /usr/local/lib/python3.6/dist-packages/keras/backend/tensorflow_backend.py:1020: The name tf.assign is deprecated. Please use tf.compat.v1.assign instead.\n",
            "\n",
            "WARNING:tensorflow:From /usr/local/lib/python3.6/dist-packages/keras/backend/tensorflow_backend.py:3005: The name tf.Session is deprecated. Please use tf.compat.v1.Session instead.\n",
            "\n",
            "Train on 8000 samples, validate on 2000 samples\n",
            "Epoch 1/100\n",
            "WARNING:tensorflow:From /usr/local/lib/python3.6/dist-packages/keras/backend/tensorflow_backend.py:190: The name tf.get_default_session is deprecated. Please use tf.compat.v1.get_default_session instead.\n",
            "\n",
            "WARNING:tensorflow:From /usr/local/lib/python3.6/dist-packages/keras/backend/tensorflow_backend.py:197: The name tf.ConfigProto is deprecated. Please use tf.compat.v1.ConfigProto instead.\n",
            "\n",
            "WARNING:tensorflow:From /usr/local/lib/python3.6/dist-packages/keras/backend/tensorflow_backend.py:207: The name tf.global_variables is deprecated. Please use tf.compat.v1.global_variables instead.\n",
            "\n",
            "WARNING:tensorflow:From /usr/local/lib/python3.6/dist-packages/keras/backend/tensorflow_backend.py:216: The name tf.is_variable_initialized is deprecated. Please use tf.compat.v1.is_variable_initialized instead.\n",
            "\n",
            "WARNING:tensorflow:From /usr/local/lib/python3.6/dist-packages/keras/backend/tensorflow_backend.py:223: The name tf.variables_initializer is deprecated. Please use tf.compat.v1.variables_initializer instead.\n",
            "\n",
            "8000/8000 [==============================] - 2s 245us/step - loss: 0.6156 - acc: 0.7226 - val_loss: 0.5288 - val_acc: 0.7960\n",
            "Epoch 2/100\n",
            "8000/8000 [==============================] - 1s 157us/step - loss: 0.4930 - acc: 0.7964 - val_loss: 0.4699 - val_acc: 0.7960\n",
            "Epoch 3/100\n",
            "8000/8000 [==============================] - 1s 157us/step - loss: 0.4613 - acc: 0.7964 - val_loss: 0.4533 - val_acc: 0.7960\n",
            "Epoch 4/100\n",
            "8000/8000 [==============================] - 1s 156us/step - loss: 0.4485 - acc: 0.7964 - val_loss: 0.4436 - val_acc: 0.7960\n",
            "Epoch 5/100\n",
            "8000/8000 [==============================] - 1s 162us/step - loss: 0.4387 - acc: 0.7964 - val_loss: 0.4361 - val_acc: 0.7960\n",
            "Epoch 6/100\n",
            "8000/8000 [==============================] - 1s 158us/step - loss: 0.4307 - acc: 0.7964 - val_loss: 0.4302 - val_acc: 0.7960\n",
            "Epoch 7/100\n",
            "8000/8000 [==============================] - 1s 154us/step - loss: 0.4233 - acc: 0.7964 - val_loss: 0.4240 - val_acc: 0.7960\n",
            "Epoch 8/100\n",
            "8000/8000 [==============================] - 1s 155us/step - loss: 0.4159 - acc: 0.7964 - val_loss: 0.4168 - val_acc: 0.7960\n",
            "Epoch 9/100\n",
            "8000/8000 [==============================] - 1s 156us/step - loss: 0.4089 - acc: 0.7964 - val_loss: 0.4109 - val_acc: 0.7960\n",
            "Epoch 10/100\n",
            "8000/8000 [==============================] - 1s 155us/step - loss: 0.4027 - acc: 0.7964 - val_loss: 0.4048 - val_acc: 0.7960\n",
            "Epoch 11/100\n",
            "8000/8000 [==============================] - 1s 154us/step - loss: 0.3969 - acc: 0.8091 - val_loss: 0.4010 - val_acc: 0.8275\n",
            "Epoch 12/100\n",
            "8000/8000 [==============================] - 1s 157us/step - loss: 0.3915 - acc: 0.8312 - val_loss: 0.3979 - val_acc: 0.8255\n",
            "Epoch 13/100\n",
            "8000/8000 [==============================] - 1s 155us/step - loss: 0.3878 - acc: 0.8289 - val_loss: 0.3928 - val_acc: 0.8320\n",
            "Epoch 14/100\n",
            "8000/8000 [==============================] - 1s 147us/step - loss: 0.3832 - acc: 0.8420 - val_loss: 0.3907 - val_acc: 0.8365\n",
            "Epoch 15/100\n",
            "8000/8000 [==============================] - 1s 148us/step - loss: 0.3801 - acc: 0.8462 - val_loss: 0.3879 - val_acc: 0.8395\n",
            "Epoch 16/100\n",
            "8000/8000 [==============================] - 1s 156us/step - loss: 0.3772 - acc: 0.8472 - val_loss: 0.3838 - val_acc: 0.8400\n",
            "Epoch 17/100\n",
            "8000/8000 [==============================] - 1s 160us/step - loss: 0.3743 - acc: 0.8529 - val_loss: 0.3844 - val_acc: 0.8385\n",
            "Epoch 18/100\n",
            "8000/8000 [==============================] - 1s 160us/step - loss: 0.3728 - acc: 0.8505 - val_loss: 0.3846 - val_acc: 0.8430\n",
            "Epoch 19/100\n",
            "8000/8000 [==============================] - 1s 159us/step - loss: 0.3701 - acc: 0.8537 - val_loss: 0.3842 - val_acc: 0.8445\n",
            "Epoch 20/100\n",
            "8000/8000 [==============================] - 1s 158us/step - loss: 0.3690 - acc: 0.8534 - val_loss: 0.3792 - val_acc: 0.8465\n",
            "Epoch 21/100\n",
            "8000/8000 [==============================] - 1s 162us/step - loss: 0.3673 - acc: 0.8554 - val_loss: 0.3793 - val_acc: 0.8430\n",
            "Epoch 22/100\n",
            "8000/8000 [==============================] - 1s 160us/step - loss: 0.3659 - acc: 0.8535 - val_loss: 0.3782 - val_acc: 0.8465\n",
            "Epoch 23/100\n",
            "8000/8000 [==============================] - 1s 163us/step - loss: 0.3642 - acc: 0.8557 - val_loss: 0.3766 - val_acc: 0.8460\n",
            "Epoch 24/100\n",
            "8000/8000 [==============================] - 1s 157us/step - loss: 0.3632 - acc: 0.8546 - val_loss: 0.3836 - val_acc: 0.8375\n",
            "Epoch 25/100\n",
            "8000/8000 [==============================] - 1s 163us/step - loss: 0.3625 - acc: 0.8549 - val_loss: 0.3765 - val_acc: 0.8490\n",
            "Epoch 26/100\n",
            "8000/8000 [==============================] - 1s 157us/step - loss: 0.3610 - acc: 0.8552 - val_loss: 0.3767 - val_acc: 0.8530\n",
            "Epoch 27/100\n",
            "8000/8000 [==============================] - 1s 159us/step - loss: 0.3605 - acc: 0.8592 - val_loss: 0.3762 - val_acc: 0.8510\n",
            "Epoch 28/100\n",
            "8000/8000 [==============================] - 1s 157us/step - loss: 0.3601 - acc: 0.8571 - val_loss: 0.3724 - val_acc: 0.8470\n",
            "Epoch 29/100\n",
            "8000/8000 [==============================] - 1s 166us/step - loss: 0.3586 - acc: 0.8576 - val_loss: 0.3671 - val_acc: 0.8520\n",
            "Epoch 30/100\n",
            "8000/8000 [==============================] - 1s 158us/step - loss: 0.3584 - acc: 0.8587 - val_loss: 0.3718 - val_acc: 0.8540\n",
            "Epoch 31/100\n",
            "8000/8000 [==============================] - 1s 158us/step - loss: 0.3577 - acc: 0.8587 - val_loss: 0.3705 - val_acc: 0.8490\n",
            "Epoch 32/100\n",
            "8000/8000 [==============================] - 1s 161us/step - loss: 0.3555 - acc: 0.8571 - val_loss: 0.3733 - val_acc: 0.8525\n",
            "Epoch 33/100\n",
            "8000/8000 [==============================] - 1s 162us/step - loss: 0.3564 - acc: 0.8566 - val_loss: 0.3701 - val_acc: 0.8500\n",
            "Epoch 34/100\n",
            "8000/8000 [==============================] - 1s 163us/step - loss: 0.3554 - acc: 0.8597 - val_loss: 0.3721 - val_acc: 0.8460\n",
            "Epoch 35/100\n",
            "8000/8000 [==============================] - 1s 158us/step - loss: 0.3537 - acc: 0.8600 - val_loss: 0.3694 - val_acc: 0.8465\n",
            "Epoch 36/100\n",
            "8000/8000 [==============================] - 1s 160us/step - loss: 0.3545 - acc: 0.8577 - val_loss: 0.3714 - val_acc: 0.8440\n",
            "Epoch 37/100\n",
            "8000/8000 [==============================] - 1s 164us/step - loss: 0.3537 - acc: 0.8576 - val_loss: 0.3710 - val_acc: 0.8445\n",
            "Epoch 38/100\n",
            "8000/8000 [==============================] - 1s 156us/step - loss: 0.3535 - acc: 0.8561 - val_loss: 0.3704 - val_acc: 0.8520\n",
            "Epoch 39/100\n",
            "8000/8000 [==============================] - 1s 152us/step - loss: 0.3524 - acc: 0.8585 - val_loss: 0.3719 - val_acc: 0.8405\n",
            "Epoch 40/100\n",
            "8000/8000 [==============================] - 1s 153us/step - loss: 0.3521 - acc: 0.8594 - val_loss: 0.3700 - val_acc: 0.8520\n",
            "Epoch 41/100\n",
            "8000/8000 [==============================] - 1s 158us/step - loss: 0.3518 - acc: 0.8596 - val_loss: 0.3692 - val_acc: 0.8440\n",
            "Epoch 42/100\n",
            "8000/8000 [==============================] - 1s 157us/step - loss: 0.3512 - acc: 0.8587 - val_loss: 0.3693 - val_acc: 0.8455\n",
            "Epoch 43/100\n",
            "8000/8000 [==============================] - 1s 162us/step - loss: 0.3513 - acc: 0.8595 - val_loss: 0.3718 - val_acc: 0.8460\n",
            "Epoch 44/100\n",
            "8000/8000 [==============================] - 1s 159us/step - loss: 0.3510 - acc: 0.8609 - val_loss: 0.3722 - val_acc: 0.8465\n",
            "Epoch 45/100\n",
            "8000/8000 [==============================] - 1s 164us/step - loss: 0.3502 - acc: 0.8602 - val_loss: 0.3674 - val_acc: 0.8435\n",
            "Epoch 46/100\n",
            "8000/8000 [==============================] - 1s 162us/step - loss: 0.3501 - acc: 0.8616 - val_loss: 0.3699 - val_acc: 0.8520\n",
            "Epoch 47/100\n",
            "8000/8000 [==============================] - 1s 162us/step - loss: 0.3496 - acc: 0.8606 - val_loss: 0.3713 - val_acc: 0.8390\n",
            "Epoch 48/100\n",
            "8000/8000 [==============================] - 1s 162us/step - loss: 0.3494 - acc: 0.8606 - val_loss: 0.3695 - val_acc: 0.8510\n",
            "Epoch 49/100\n",
            "8000/8000 [==============================] - 1s 157us/step - loss: 0.3484 - acc: 0.8625 - val_loss: 0.3713 - val_acc: 0.8495\n",
            "Epoch 50/100\n",
            "8000/8000 [==============================] - 1s 159us/step - loss: 0.3500 - acc: 0.8602 - val_loss: 0.3693 - val_acc: 0.8500\n",
            "Epoch 51/100\n",
            "8000/8000 [==============================] - 1s 163us/step - loss: 0.3498 - acc: 0.8591 - val_loss: 0.3696 - val_acc: 0.8520\n",
            "Epoch 52/100\n",
            "8000/8000 [==============================] - 1s 164us/step - loss: 0.3487 - acc: 0.8627 - val_loss: 0.3772 - val_acc: 0.8415\n",
            "Epoch 53/100\n",
            "8000/8000 [==============================] - 1s 164us/step - loss: 0.3508 - acc: 0.8602 - val_loss: 0.3683 - val_acc: 0.8490\n",
            "Epoch 54/100\n",
            "8000/8000 [==============================] - 1s 156us/step - loss: 0.3482 - acc: 0.8611 - val_loss: 0.3718 - val_acc: 0.8515\n",
            "Epoch 55/100\n",
            "8000/8000 [==============================] - 1s 160us/step - loss: 0.3489 - acc: 0.8620 - val_loss: 0.3767 - val_acc: 0.8375\n",
            "Epoch 56/100\n",
            "8000/8000 [==============================] - 1s 157us/step - loss: 0.3495 - acc: 0.8594 - val_loss: 0.3700 - val_acc: 0.8535\n",
            "Epoch 57/100\n",
            "8000/8000 [==============================] - 1s 156us/step - loss: 0.3473 - acc: 0.8624 - val_loss: 0.3739 - val_acc: 0.8515\n",
            "Epoch 58/100\n",
            "8000/8000 [==============================] - 1s 159us/step - loss: 0.3486 - acc: 0.8599 - val_loss: 0.3674 - val_acc: 0.8485\n",
            "Epoch 59/100\n",
            "8000/8000 [==============================] - 1s 154us/step - loss: 0.3483 - acc: 0.8599 - val_loss: 0.3690 - val_acc: 0.8430\n",
            "Epoch 60/100\n",
            "8000/8000 [==============================] - 1s 159us/step - loss: 0.3477 - acc: 0.8615 - val_loss: 0.3670 - val_acc: 0.8540\n",
            "Epoch 61/100\n",
            "8000/8000 [==============================] - 1s 156us/step - loss: 0.3473 - acc: 0.8604 - val_loss: 0.3741 - val_acc: 0.8420\n",
            "Epoch 62/100\n",
            "8000/8000 [==============================] - 1s 152us/step - loss: 0.3472 - acc: 0.8620 - val_loss: 0.3661 - val_acc: 0.8510\n",
            "Epoch 63/100\n",
            "8000/8000 [==============================] - 1s 156us/step - loss: 0.3469 - acc: 0.8602 - val_loss: 0.3670 - val_acc: 0.8510\n",
            "Epoch 64/100\n",
            "8000/8000 [==============================] - 1s 156us/step - loss: 0.3488 - acc: 0.8590 - val_loss: 0.3651 - val_acc: 0.8535\n",
            "Epoch 65/100\n",
            "8000/8000 [==============================] - 1s 163us/step - loss: 0.3469 - acc: 0.8624 - val_loss: 0.3701 - val_acc: 0.8515\n",
            "Epoch 66/100\n",
            "8000/8000 [==============================] - 1s 162us/step - loss: 0.3473 - acc: 0.8610 - val_loss: 0.3666 - val_acc: 0.8545\n",
            "Epoch 67/100\n",
            "8000/8000 [==============================] - 1s 163us/step - loss: 0.3450 - acc: 0.8627 - val_loss: 0.3785 - val_acc: 0.8415\n",
            "Epoch 68/100\n",
            "8000/8000 [==============================] - 1s 157us/step - loss: 0.3469 - acc: 0.8627 - val_loss: 0.3698 - val_acc: 0.8450\n",
            "Epoch 69/100\n",
            "8000/8000 [==============================] - 1s 167us/step - loss: 0.3450 - acc: 0.8645 - val_loss: 0.3710 - val_acc: 0.8460\n",
            "Epoch 70/100\n",
            "8000/8000 [==============================] - 1s 163us/step - loss: 0.3462 - acc: 0.8602 - val_loss: 0.3737 - val_acc: 0.8485\n",
            "Epoch 71/100\n",
            "8000/8000 [==============================] - 1s 162us/step - loss: 0.3462 - acc: 0.8617 - val_loss: 0.3710 - val_acc: 0.8410\n",
            "Epoch 72/100\n",
            "8000/8000 [==============================] - 1s 164us/step - loss: 0.3457 - acc: 0.8624 - val_loss: 0.3664 - val_acc: 0.8475\n",
            "Epoch 73/100\n",
            "8000/8000 [==============================] - 1s 164us/step - loss: 0.3472 - acc: 0.8610 - val_loss: 0.3745 - val_acc: 0.8345\n",
            "Epoch 74/100\n",
            "8000/8000 [==============================] - 1s 160us/step - loss: 0.3462 - acc: 0.8637 - val_loss: 0.3758 - val_acc: 0.8540\n",
            "Epoch 75/100\n",
            "8000/8000 [==============================] - 1s 161us/step - loss: 0.3472 - acc: 0.8611 - val_loss: 0.3694 - val_acc: 0.8500\n",
            "Epoch 76/100\n",
            "8000/8000 [==============================] - 1s 160us/step - loss: 0.3457 - acc: 0.8626 - val_loss: 0.3675 - val_acc: 0.8550\n",
            "Epoch 77/100\n",
            "8000/8000 [==============================] - 1s 159us/step - loss: 0.3461 - acc: 0.8620 - val_loss: 0.3717 - val_acc: 0.8375\n",
            "Epoch 78/100\n",
            "8000/8000 [==============================] - 1s 160us/step - loss: 0.3458 - acc: 0.8629 - val_loss: 0.3693 - val_acc: 0.8485\n",
            "Epoch 79/100\n",
            "8000/8000 [==============================] - 1s 157us/step - loss: 0.3457 - acc: 0.8649 - val_loss: 0.3665 - val_acc: 0.8490\n",
            "Epoch 80/100\n",
            "8000/8000 [==============================] - 1s 161us/step - loss: 0.3460 - acc: 0.8600 - val_loss: 0.3738 - val_acc: 0.8330\n",
            "Epoch 81/100\n",
            "8000/8000 [==============================] - 1s 158us/step - loss: 0.3455 - acc: 0.8636 - val_loss: 0.3661 - val_acc: 0.8510\n",
            "Epoch 82/100\n",
            "8000/8000 [==============================] - 1s 160us/step - loss: 0.3453 - acc: 0.8622 - val_loss: 0.3672 - val_acc: 0.8435\n",
            "Epoch 83/100\n",
            "8000/8000 [==============================] - 1s 159us/step - loss: 0.3457 - acc: 0.8614 - val_loss: 0.3678 - val_acc: 0.8485\n",
            "Epoch 84/100\n",
            "8000/8000 [==============================] - 1s 158us/step - loss: 0.3452 - acc: 0.8614 - val_loss: 0.3667 - val_acc: 0.8510\n",
            "Epoch 85/100\n",
            "8000/8000 [==============================] - 1s 161us/step - loss: 0.3443 - acc: 0.8634 - val_loss: 0.3673 - val_acc: 0.8490\n",
            "Epoch 86/100\n",
            "8000/8000 [==============================] - 1s 151us/step - loss: 0.3452 - acc: 0.8630 - val_loss: 0.3662 - val_acc: 0.8530\n",
            "Epoch 87/100\n",
            "8000/8000 [==============================] - 1s 157us/step - loss: 0.3451 - acc: 0.8624 - val_loss: 0.3648 - val_acc: 0.8555\n",
            "Epoch 88/100\n",
            "8000/8000 [==============================] - 1s 158us/step - loss: 0.3449 - acc: 0.8609 - val_loss: 0.3691 - val_acc: 0.8425\n",
            "Epoch 89/100\n",
            "8000/8000 [==============================] - 1s 161us/step - loss: 0.3447 - acc: 0.8637 - val_loss: 0.3680 - val_acc: 0.8500\n",
            "Epoch 90/100\n",
            "8000/8000 [==============================] - 1s 158us/step - loss: 0.3452 - acc: 0.8605 - val_loss: 0.3668 - val_acc: 0.8490\n",
            "Epoch 91/100\n",
            "8000/8000 [==============================] - 1s 161us/step - loss: 0.3454 - acc: 0.8631 - val_loss: 0.3686 - val_acc: 0.8475\n",
            "Epoch 92/100\n",
            "8000/8000 [==============================] - 1s 158us/step - loss: 0.3453 - acc: 0.8622 - val_loss: 0.3670 - val_acc: 0.8475\n",
            "Epoch 93/100\n",
            "8000/8000 [==============================] - 1s 164us/step - loss: 0.3439 - acc: 0.8616 - val_loss: 0.3697 - val_acc: 0.8530\n",
            "Epoch 94/100\n",
            "8000/8000 [==============================] - 1s 162us/step - loss: 0.3444 - acc: 0.8627 - val_loss: 0.3678 - val_acc: 0.8540\n",
            "Epoch 95/100\n",
            "8000/8000 [==============================] - 1s 159us/step - loss: 0.3442 - acc: 0.8616 - val_loss: 0.3657 - val_acc: 0.8520\n",
            "Epoch 96/100\n",
            "8000/8000 [==============================] - 1s 156us/step - loss: 0.3436 - acc: 0.8630 - val_loss: 0.3627 - val_acc: 0.8495\n",
            "Epoch 97/100\n",
            "8000/8000 [==============================] - 1s 162us/step - loss: 0.3436 - acc: 0.8609 - val_loss: 0.3778 - val_acc: 0.8415\n",
            "Epoch 98/100\n",
            "8000/8000 [==============================] - 1s 164us/step - loss: 0.3442 - acc: 0.8612 - val_loss: 0.3676 - val_acc: 0.8465\n",
            "Epoch 99/100\n",
            "8000/8000 [==============================] - 1s 164us/step - loss: 0.3442 - acc: 0.8596 - val_loss: 0.3678 - val_acc: 0.8510\n",
            "Epoch 100/100\n",
            "8000/8000 [==============================] - 1s 159us/step - loss: 0.3435 - acc: 0.8600 - val_loss: 0.3726 - val_acc: 0.8400\n"
          ],
          "name": "stdout"
        },
        {
          "output_type": "execute_result",
          "data": {
            "text/plain": [
              "<keras.callbacks.History at 0x7fe3ecdfab70>"
            ]
          },
          "metadata": {
            "tags": []
          },
          "execution_count": 128
        }
      ]
    },
    {
      "cell_type": "markdown",
      "metadata": {
        "id": "57Y0KvDEI2h6",
        "colab_type": "text"
      },
      "source": [
        "##  Predicting the Test set results"
      ]
    },
    {
      "cell_type": "code",
      "metadata": {
        "id": "1Dl_28arI1bK",
        "colab_type": "code",
        "colab": {
          "base_uri": "https://localhost:8080/",
          "height": 136
        },
        "outputId": "7d84d00f-ac6d-4367-df5f-de19df428456"
      },
      "source": [
        "THRESHOLD = 0.5\n",
        "predictions = model.predict(X_test)\n",
        "\n",
        "predictions = (predictions > THRESHOLD)\n",
        "print(predictions)"
      ],
      "execution_count": 129,
      "outputs": [
        {
          "output_type": "stream",
          "text": [
            "[[False]\n",
            " [ True]\n",
            " [False]\n",
            " ...\n",
            " [False]\n",
            " [False]\n",
            " [False]]\n"
          ],
          "name": "stdout"
        }
      ]
    },
    {
      "cell_type": "markdown",
      "metadata": {
        "id": "TpHynZTXJRMG",
        "colab_type": "text"
      },
      "source": [
        "## Making the confusion Matrix"
      ]
    },
    {
      "cell_type": "code",
      "metadata": {
        "id": "E3rMllLLJN8l",
        "colab_type": "code",
        "colab": {
          "base_uri": "https://localhost:8080/",
          "height": 51
        },
        "outputId": "8f5cfe06-549b-4bbe-b2ae-f57b1f24166e"
      },
      "source": [
        "cm = confusion_matrix(y_test, predictions)\n",
        "print(cm)"
      ],
      "execution_count": 134,
      "outputs": [
        {
          "output_type": "stream",
          "text": [
            "[[1463  129]\n",
            " [ 191  217]]\n"
          ],
          "name": "stdout"
        }
      ]
    },
    {
      "cell_type": "code",
      "metadata": {
        "id": "QAXjJpElJ1yL",
        "colab_type": "code",
        "colab": {
          "base_uri": "https://localhost:8080/",
          "height": 34
        },
        "outputId": "94d0592d-6054-41cc-d7d6-0af2f995ef42"
      },
      "source": [
        ""
      ],
      "execution_count": 135,
      "outputs": [
        {
          "output_type": "execute_result",
          "data": {
            "text/plain": [
              "2000"
            ]
          },
          "metadata": {
            "tags": []
          },
          "execution_count": 135
        }
      ]
    }
  ]
}